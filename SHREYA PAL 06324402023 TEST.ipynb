{
 "cells": [
  {
   "cell_type": "code",
   "execution_count": 4,
   "id": "9ef09cbb-226a-4c04-9bc6-b77ca984fecf",
   "metadata": {},
   "outputs": [
    {
     "name": "stdout",
     "output_type": "stream",
     "text": [
      "[1, 2, 3] <class 'list'>\n",
      "(1, 2, 3) <class 'tuple'>\n"
     ]
    }
   ],
   "source": [
    "#QUESTION 1\n",
    "#1)LIST IS MUTABLE \n",
    "#2)TUPLE IS IMMUTABLE.\n",
    "#3)LIST HAVE SQUARE BRACKET\n",
    "#4)TUPLE IN  ()BRACKET.\n",
    "#EXAMPLE OF  LIST: \n",
    "a=[1,2,3]\n",
    "print(a,type(a))\n",
    "#EXAMPLE OF TUPLE:\n",
    "a=(1,2,3)\n",
    "print(a,type(a))\n"
   ]
  },
  {
   "cell_type": "code",
   "execution_count": null,
   "id": "bf2c2c98-5e15-41b6-8136-6a3ade5502c0",
   "metadata": {},
   "outputs": [],
   "source": [
    "#QUESTION 2\n",
    "#INPUT FUNCTIONS use to receive input from user.\n",
    "#input function returns string value\n",
    "#through TYPECASTING we convert it in integer"
   ]
  },
  {
   "cell_type": "code",
   "execution_count": 6,
   "id": "795a6812-a3de-41fe-b04a-d523e7717138",
   "metadata": {},
   "outputs": [
    {
     "name": "stdout",
     "output_type": "stream",
     "text": [
      "{'a': 'x', 'b': 'y', 'c': 'z'} <class 'dict'>\n"
     ]
    }
   ],
   "source": [
    "#QUESTION_3\n",
    "#python dictionaries  stores data in key-value pair in python.\n",
    "#Dictionaries write inside curly braces.\n",
    "a={'a':'x','b':'y','c':'z'}\n",
    "print(a,type(a))\n"
   ]
  },
  {
   "cell_type": "code",
   "execution_count": 7,
   "id": "700c846c-be25-4e1a-aa70-43c34a7c1232",
   "metadata": {},
   "outputs": [
    {
     "name": "stdout",
     "output_type": "stream",
     "text": [
      "1\n",
      "2\n",
      "3\n",
      "4\n",
      "5\n"
     ]
    }
   ],
   "source": [
    "#QUESTION_4\n",
    "#FOR LOOP is use to repeat the same function until the given condition is satiesfied.\n",
    "#FOR LOOP repeats the code inside the loop in sequence.\n",
    "for i in range(1, 6):\n",
    "    print(i)\n"
   ]
  },
  {
   "cell_type": "code",
   "execution_count": 14,
   "id": "5d72b8a0-e721-4aee-82be-ecb40e3d3e9e",
   "metadata": {},
   "outputs": [
    {
     "name": "stdout",
     "output_type": "stream",
     "text": [
      "invalid value\n",
      "xyz\n"
     ]
    }
   ],
   "source": [
    "#QUESTION 5\n",
    "#Exception handling handles runtime errors ,errors that occur  at the time of  execution.\n",
    "#Exception handling can catch and handle errors\n",
    "#TRY: contains error that occurContains code that runs regardless of whether an exception occurs or not.\n",
    "#Except :catch and handle errors that can cause the problem.\n",
    "#Finally:contain code that run whether an exception occur or not.\n",
    "#Example:\n",
    "try:\n",
    "    a=int(\"str\")\n",
    "    b=1/0\n",
    "except ValueError:\n",
    "    print(\"invalid value\")\n",
    "finally:\n",
    "    print(\"xyz\")"
   ]
  },
  {
   "cell_type": "code",
   "execution_count": null,
   "id": "01d394a2-4ecf-4efb-8d07-3216850e80d9",
   "metadata": {},
   "outputs": [],
   "source": [
    "# QUESTION 6\n",
    "#Modules are built-in functions in python.\n",
    "#Modules makes the code more readable.\n",
    "#uses def()\n"
   ]
  },
  {
   "cell_type": "code",
   "execution_count": 26,
   "id": "45f1e405-ddba-4a7d-a1dc-03dc7f752878",
   "metadata": {},
   "outputs": [
    {
     "name": "stdout",
     "output_type": "stream",
     "text": [
      "hahaha\n",
      "xy\n"
     ]
    }
   ],
   "source": [
    "#QUESTION 7\n",
    "#OOPS in python \n",
    "#have classes and objects\n",
    "#classes are blueprints for object creation.\n",
    "#objects are instance of thr class.\n",
    "#IN python there are 4 oops pillars are there:POLYMORPHISM,INCAPSULATION,ABSTRACTION,INHERITANCE.\n",
    "class a:\n",
    "    print(\"hahaha\")\n",
    "    b='x'\n",
    "    c='y'\n",
    "    d=b+c\n",
    "    print (d)"
   ]
  },
  {
   "cell_type": "code",
   "execution_count": null,
   "id": "8af2bc33-3435-4a1f-8b68-574dc2c4ed42",
   "metadata": {},
   "outputs": [],
   "source": [
    "#QUESTION 8 :ABESNT"
   ]
  },
  {
   "cell_type": "code",
   "execution_count": 22,
   "id": "db872759-f4e0-4e32-86c3-f578be1e92cc",
   "metadata": {},
   "outputs": [
    {
     "ename": "SyntaxError",
     "evalue": "invalid non-printable character U+00A0 (1190741181.py, line 7)",
     "output_type": "error",
     "traceback": [
      "\u001b[1;36m  Cell \u001b[1;32mIn[22], line 7\u001b[1;36m\u001b[0m\n\u001b[1;33m    print(\"AREA:\", area)\u001b[0m\n\u001b[1;37m                  ^\u001b[0m\n\u001b[1;31mSyntaxError\u001b[0m\u001b[1;31m:\u001b[0m invalid non-printable character U+00A0\n"
     ]
    }
   ],
   "source": [
    "#QUESTION 9:\n",
    "def calculate_area(radius):\n",
    "    pi = 3.14\n",
    "    return pi * (radius ** 3)\n",
    "\n",
    "area = calculate_area(5)\n",
    "print(\"AREA:\", area)"
   ]
  },
  {
   "cell_type": "code",
   "execution_count": 24,
   "id": "edf36a7e-66d9-44c5-874e-b5714c8a58db",
   "metadata": {},
   "outputs": [
    {
     "ename": "SyntaxError",
     "evalue": "invalid non-printable character U+00A0 (3342702281.py, line 6)",
     "output_type": "error",
     "traceback": [
      "\u001b[1;36m  Cell \u001b[1;32mIn[24], line 6\u001b[1;36m\u001b[0m\n\u001b[1;33m    print(\"Area:\", area)\u001b[0m\n\u001b[1;37m                  ^\u001b[0m\n\u001b[1;31mSyntaxError\u001b[0m\u001b[1;31m:\u001b[0m invalid non-printable character U+00A0\n"
     ]
    }
   ],
   "source": [
    "def calculate_area(radius):\n",
    "    pi = 3.14\n",
    "    return pi * (radius ** 5)\n",
    "\n",
    "area = calculate_area(5)\n",
    "print(\"Area:\", area)"
   ]
  },
  {
   "cell_type": "code",
   "execution_count": 23,
   "id": "5a706799-d2b1-42ba-a82f-41cc1ce54525",
   "metadata": {},
   "outputs": [
    {
     "name": "stdin",
     "output_type": "stream",
     "text": [
      "What is your name?  shreya\n",
      "How old are you?  20\n"
     ]
    },
    {
     "name": "stdout",
     "output_type": "stream",
     "text": [
      "Hello shreya, you are 20 years old!\n"
     ]
    }
   ],
   "source": [
    "#QUESTION 10\n",
    "name = input(\"What is your name? \")\n",
    "\n",
    "age = input(\"How old are you? \")\n",
    "\n",
    "print(f\"Hello {name}, you are{age} years old!\")"
   ]
  },
  {
   "cell_type": "code",
   "execution_count": 25,
   "id": "fac8c234-a7e8-4891-87f7-19fafb6a205c",
   "metadata": {},
   "outputs": [
    {
     "ename": "SyntaxError",
     "evalue": "invalid non-printable character U+00A0 (2828253511.py, line 4)",
     "output_type": "error",
     "traceback": [
      "\u001b[1;36m  Cell \u001b[1;32mIn[25], line 4\u001b[1;36m\u001b[0m\n\u001b[1;33m    print(f\"{i + 1} : {fruit}\")\u001b[0m\n\u001b[1;37m                ^\u001b[0m\n\u001b[1;31mSyntaxError\u001b[0m\u001b[1;31m:\u001b[0m invalid non-printable character U+00A0\n"
     ]
    }
   ],
   "source": [
    "fruits = [\"BANANA\", \"APPLE\", \"STRAWBERRY\", \"MANGO\", \"GRAPES\"]\n",
    "\n",
    "for i, fruit in enumerate(fruits):\n",
    "    print(f\"{i + 1} : {fruit}\")"
   ]
  },
  {
   "cell_type": "code",
   "execution_count": null,
   "id": "c2db2ddb-8243-4905-82c1-546f57cf0bc3",
   "metadata": {},
   "outputs": [],
   "source": []
  }
 ],
 "metadata": {
  "kernelspec": {
   "display_name": "Python [conda env:base] *",
   "language": "python",
   "name": "conda-base-py"
  },
  "language_info": {
   "codemirror_mode": {
    "name": "ipython",
    "version": 3
   },
   "file_extension": ".py",
   "mimetype": "text/x-python",
   "name": "python",
   "nbconvert_exporter": "python",
   "pygments_lexer": "ipython3",
   "version": "3.13.5"
  }
 },
 "nbformat": 4,
 "nbformat_minor": 5
}
